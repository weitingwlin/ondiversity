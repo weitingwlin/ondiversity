{
 "cells": [
  {
   "cell_type": "code",
   "execution_count": 1,
   "metadata": {},
   "outputs": [],
   "source": [
    "# This function sorts data with ascending order based on the parameters\n",
    "import numpy as np\n",
    "import pandas as pd"
   ]
  },
  {
   "cell_type": "code",
   "execution_count": 3,
   "metadata": {},
   "outputs": [
    {
     "data": {
      "text/html": [
       "<div>\n",
       "<style>\n",
       "    .dataframe thead tr:only-child th {\n",
       "        text-align: right;\n",
       "    }\n",
       "\n",
       "    .dataframe thead th {\n",
       "        text-align: left;\n",
       "    }\n",
       "\n",
       "    .dataframe tbody tr th {\n",
       "        vertical-align: top;\n",
       "    }\n",
       "</style>\n",
       "<table border=\"1\" class=\"dataframe\">\n",
       "  <thead>\n",
       "    <tr style=\"text-align: right;\">\n",
       "      <th></th>\n",
       "      <th>EmplID</th>\n",
       "      <th>Gender</th>\n",
       "      <th>Primary Nat</th>\n",
       "      <th>Other Nationality</th>\n",
       "      <th>English Level ( 6 is fluent)</th>\n",
       "      <th>Last Job Domain Description</th>\n",
       "      <th>Last Job Title 1</th>\n",
       "      <th>Section</th>\n",
       "      <th>Study Group</th>\n",
       "    </tr>\n",
       "  </thead>\n",
       "  <tbody>\n",
       "    <tr>\n",
       "      <th>0</th>\n",
       "      <td>857817</td>\n",
       "      <td>Female</td>\n",
       "      <td>Albanian</td>\n",
       "      <td>NaN</td>\n",
       "      <td>5</td>\n",
       "      <td>Consulting</td>\n",
       "      <td>Lean Navigator</td>\n",
       "      <td>1</td>\n",
       "      <td>1</td>\n",
       "    </tr>\n",
       "    <tr>\n",
       "      <th>1</th>\n",
       "      <td>848064</td>\n",
       "      <td>Male</td>\n",
       "      <td>Brazilian</td>\n",
       "      <td>Portuguese</td>\n",
       "      <td>5</td>\n",
       "      <td>Business Dev./Corporate Plan.</td>\n",
       "      <td>manager</td>\n",
       "      <td>1</td>\n",
       "      <td>1</td>\n",
       "    </tr>\n",
       "    <tr>\n",
       "      <th>2</th>\n",
       "      <td>852548</td>\n",
       "      <td>Male</td>\n",
       "      <td>Egyptian</td>\n",
       "      <td>Canadian</td>\n",
       "      <td>5</td>\n",
       "      <td>Other</td>\n",
       "      <td>Cards Business Analytics Unit Head</td>\n",
       "      <td>1</td>\n",
       "      <td>1</td>\n",
       "    </tr>\n",
       "    <tr>\n",
       "      <th>3</th>\n",
       "      <td>852551</td>\n",
       "      <td>Male</td>\n",
       "      <td>Indian</td>\n",
       "      <td>NaN</td>\n",
       "      <td>5</td>\n",
       "      <td>Finance</td>\n",
       "      <td>Investment Analyst</td>\n",
       "      <td>1</td>\n",
       "      <td>1</td>\n",
       "    </tr>\n",
       "    <tr>\n",
       "      <th>4</th>\n",
       "      <td>852196</td>\n",
       "      <td>Female</td>\n",
       "      <td>Norwegian</td>\n",
       "      <td>NaN</td>\n",
       "      <td>5</td>\n",
       "      <td>Sales &amp; Marketing</td>\n",
       "      <td>Brand and Customer manager Cardiovascular Disease</td>\n",
       "      <td>1</td>\n",
       "      <td>1</td>\n",
       "    </tr>\n",
       "  </tbody>\n",
       "</table>\n",
       "</div>"
      ],
      "text/plain": [
       "   EmplID  Gender Primary Nat Other Nationality  English Level ( 6 is fluent)  \\\n",
       "0  857817  Female    Albanian               NaN                             5   \n",
       "1  848064    Male   Brazilian        Portuguese                             5   \n",
       "2  852548    Male    Egyptian          Canadian                             5   \n",
       "3  852551    Male      Indian               NaN                             5   \n",
       "4  852196  Female   Norwegian               NaN                             5   \n",
       "\n",
       "     Last Job Domain Description  \\\n",
       "0                     Consulting   \n",
       "1  Business Dev./Corporate Plan.   \n",
       "2                          Other   \n",
       "3                        Finance   \n",
       "4              Sales & Marketing   \n",
       "\n",
       "                                    Last Job Title 1  Section  Study Group  \n",
       "0                                     Lean Navigator        1            1  \n",
       "1                                            manager        1            1  \n",
       "2                 Cards Business Analytics Unit Head        1            1  \n",
       "3                                 Investment Analyst        1            1  \n",
       "4  Brand and Customer manager Cardiovascular Disease        1            1  "
      ]
     },
     "execution_count": 3,
     "metadata": {},
     "output_type": "execute_result"
    }
   ],
   "source": [
    "df = pd.read_csv('output.csv')\n",
    "df.head()"
   ]
  },
  {
   "cell_type": "code",
   "execution_count": 4,
   "metadata": {},
   "outputs": [
    {
     "data": {
      "text/plain": [
       "array([1, 2, 3])"
      ]
     },
     "execution_count": 4,
     "metadata": {},
     "output_type": "execute_result"
    }
   ],
   "source": [
    "df.Section.unique()"
   ]
  },
  {
   "cell_type": "code",
   "execution_count": null,
   "metadata": {
    "collapsed": true
   },
   "outputs": [],
   "source": []
  },
  {
   "cell_type": "code",
   "execution_count": null,
   "metadata": {
    "collapsed": true
   },
   "outputs": [],
   "source": []
  },
  {
   "cell_type": "code",
   "execution_count": null,
   "metadata": {
    "collapsed": true
   },
   "outputs": [],
   "source": []
  },
  {
   "cell_type": "code",
   "execution_count": null,
   "metadata": {
    "collapsed": true
   },
   "outputs": [],
   "source": []
  },
  {
   "cell_type": "code",
   "execution_count": null,
   "metadata": {
    "collapsed": true
   },
   "outputs": [],
   "source": []
  },
  {
   "cell_type": "code",
   "execution_count": null,
   "metadata": {
    "collapsed": true
   },
   "outputs": [],
   "source": []
  },
  {
   "cell_type": "code",
   "execution_count": null,
   "metadata": {
    "collapsed": true
   },
   "outputs": [],
   "source": []
  },
  {
   "cell_type": "code",
   "execution_count": null,
   "metadata": {
    "collapsed": true
   },
   "outputs": [],
   "source": []
  },
  {
   "cell_type": "code",
   "execution_count": null,
   "metadata": {
    "collapsed": true
   },
   "outputs": [],
   "source": []
  }
 ],
 "metadata": {
  "kernelspec": {
   "display_name": "Python 3",
   "language": "python",
   "name": "python3"
  },
  "language_info": {
   "codemirror_mode": {
    "name": "ipython",
    "version": 3
   },
   "file_extension": ".py",
   "mimetype": "text/x-python",
   "name": "python",
   "nbconvert_exporter": "python",
   "pygments_lexer": "ipython3",
   "version": "3.6.1"
  }
 },
 "nbformat": 4,
 "nbformat_minor": 1
}
